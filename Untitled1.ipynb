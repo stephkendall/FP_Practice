{
 "cells": [
  {
   "cell_type": "code",
   "execution_count": 1,
   "metadata": {},
   "outputs": [
    {
     "ename": "SyntaxError",
     "evalue": "invalid syntax (<ipython-input-1-05f8ac000a82>, line 1)",
     "output_type": "error",
     "traceback": [
      "\u001b[0;36m  File \u001b[0;32m\"<ipython-input-1-05f8ac000a82>\"\u001b[0;36m, line \u001b[0;32m1\u001b[0m\n\u001b[0;31m    http://localhost:8888/custom/base/url/tree\u001b[0m\n\u001b[0m          ^\u001b[0m\n\u001b[0;31mSyntaxError\u001b[0m\u001b[0;31m:\u001b[0m invalid syntax\n"
     ]
    }
   ],
   "source": [
    "http://localhost:8888/custom/base/url/tree"
   ]
  },
  {
   "cell_type": "code",
   "execution_count": 2,
   "metadata": {},
   "outputs": [
    {
     "ename": "SyntaxError",
     "evalue": "invalid syntax (<ipython-input-2-421ebaa84054>, line 1)",
     "output_type": "error",
     "traceback": [
      "\u001b[0;36m  File \u001b[0;32m\"<ipython-input-2-421ebaa84054>\"\u001b[0;36m, line \u001b[0;32m1\u001b[0m\n\u001b[0;31m    jupyter nbextensions_configurator enable --user\u001b[0m\n\u001b[0m                                    ^\u001b[0m\n\u001b[0;31mSyntaxError\u001b[0m\u001b[0;31m:\u001b[0m invalid syntax\n"
     ]
    }
   ],
   "source": []
  },
  {
   "cell_type": "code",
   "execution_count": 3,
   "metadata": {},
   "outputs": [
    {
     "name": "stdout",
     "output_type": "stream",
     "text": [
      "Requirement already satisfied: jupyter_nbextensions_configurator in /Users/stephaniekendall/anaconda3/lib/python3.7/site-packages (0.4.1)\n",
      "Requirement already satisfied: tornado in /Users/stephaniekendall/anaconda3/lib/python3.7/site-packages (from jupyter_nbextensions_configurator) (6.0.3)\n",
      "Requirement already satisfied: jupyter-contrib-core>=0.3.3 in /Users/stephaniekendall/anaconda3/lib/python3.7/site-packages (from jupyter_nbextensions_configurator) (0.3.3)\n",
      "Requirement already satisfied: pyyaml in /Users/stephaniekendall/anaconda3/lib/python3.7/site-packages (from jupyter_nbextensions_configurator) (5.1.1)\n",
      "Requirement already satisfied: notebook>=4.0 in /Users/stephaniekendall/anaconda3/lib/python3.7/site-packages (from jupyter_nbextensions_configurator) (6.0.0)\n",
      "Requirement already satisfied: traitlets in /Users/stephaniekendall/anaconda3/lib/python3.7/site-packages (from jupyter_nbextensions_configurator) (4.3.2)\n",
      "Requirement already satisfied: jupyter-core in /Users/stephaniekendall/anaconda3/lib/python3.7/site-packages (from jupyter_nbextensions_configurator) (4.5.0)\n",
      "Requirement already satisfied: setuptools in /Users/stephaniekendall/anaconda3/lib/python3.7/site-packages (from jupyter-contrib-core>=0.3.3->jupyter_nbextensions_configurator) (41.0.1)\n",
      "Requirement already satisfied: jupyter-client>=5.3.1 in /Users/stephaniekendall/anaconda3/lib/python3.7/site-packages (from notebook>=4.0->jupyter_nbextensions_configurator) (5.3.1)\n",
      "Requirement already satisfied: Send2Trash in /Users/stephaniekendall/anaconda3/lib/python3.7/site-packages (from notebook>=4.0->jupyter_nbextensions_configurator) (1.5.0)\n",
      "Requirement already satisfied: pyzmq>=17 in /Users/stephaniekendall/anaconda3/lib/python3.7/site-packages (from notebook>=4.0->jupyter_nbextensions_configurator) (18.0.0)\n",
      "Requirement already satisfied: prometheus-client in /Users/stephaniekendall/anaconda3/lib/python3.7/site-packages (from notebook>=4.0->jupyter_nbextensions_configurator) (0.7.1)\n",
      "Requirement already satisfied: ipython-genutils in /Users/stephaniekendall/anaconda3/lib/python3.7/site-packages (from notebook>=4.0->jupyter_nbextensions_configurator) (0.2.0)\n",
      "Requirement already satisfied: terminado>=0.8.1 in /Users/stephaniekendall/anaconda3/lib/python3.7/site-packages (from notebook>=4.0->jupyter_nbextensions_configurator) (0.8.2)\n",
      "Requirement already satisfied: jinja2 in /Users/stephaniekendall/anaconda3/lib/python3.7/site-packages (from notebook>=4.0->jupyter_nbextensions_configurator) (2.10.1)\n",
      "Requirement already satisfied: nbconvert in /Users/stephaniekendall/anaconda3/lib/python3.7/site-packages (from notebook>=4.0->jupyter_nbextensions_configurator) (5.5.0)\n",
      "Requirement already satisfied: ipykernel in /Users/stephaniekendall/anaconda3/lib/python3.7/site-packages (from notebook>=4.0->jupyter_nbextensions_configurator) (5.1.1)\n",
      "Requirement already satisfied: nbformat in /Users/stephaniekendall/anaconda3/lib/python3.7/site-packages (from notebook>=4.0->jupyter_nbextensions_configurator) (4.4.0)\n",
      "Requirement already satisfied: decorator in /Users/stephaniekendall/anaconda3/lib/python3.7/site-packages (from traitlets->jupyter_nbextensions_configurator) (4.4.0)\n",
      "Requirement already satisfied: six in /Users/stephaniekendall/anaconda3/lib/python3.7/site-packages (from traitlets->jupyter_nbextensions_configurator) (1.12.0)\n",
      "Requirement already satisfied: python-dateutil>=2.1 in /Users/stephaniekendall/anaconda3/lib/python3.7/site-packages (from jupyter-client>=5.3.1->notebook>=4.0->jupyter_nbextensions_configurator) (2.8.0)\n",
      "Requirement already satisfied: MarkupSafe>=0.23 in /Users/stephaniekendall/anaconda3/lib/python3.7/site-packages (from jinja2->notebook>=4.0->jupyter_nbextensions_configurator) (1.1.1)\n",
      "Requirement already satisfied: pygments in /Users/stephaniekendall/anaconda3/lib/python3.7/site-packages (from nbconvert->notebook>=4.0->jupyter_nbextensions_configurator) (2.4.2)\n",
      "Requirement already satisfied: bleach in /Users/stephaniekendall/anaconda3/lib/python3.7/site-packages (from nbconvert->notebook>=4.0->jupyter_nbextensions_configurator) (3.1.0)\n",
      "Requirement already satisfied: defusedxml in /Users/stephaniekendall/anaconda3/lib/python3.7/site-packages (from nbconvert->notebook>=4.0->jupyter_nbextensions_configurator) (0.6.0)\n",
      "Requirement already satisfied: pandocfilters>=1.4.1 in /Users/stephaniekendall/anaconda3/lib/python3.7/site-packages (from nbconvert->notebook>=4.0->jupyter_nbextensions_configurator) (1.4.2)\n",
      "Requirement already satisfied: mistune>=0.8.1 in /Users/stephaniekendall/anaconda3/lib/python3.7/site-packages (from nbconvert->notebook>=4.0->jupyter_nbextensions_configurator) (0.8.4)\n",
      "Requirement already satisfied: testpath in /Users/stephaniekendall/anaconda3/lib/python3.7/site-packages (from nbconvert->notebook>=4.0->jupyter_nbextensions_configurator) (0.4.2)\n",
      "Requirement already satisfied: entrypoints>=0.2.2 in /Users/stephaniekendall/anaconda3/lib/python3.7/site-packages (from nbconvert->notebook>=4.0->jupyter_nbextensions_configurator) (0.3)\n",
      "Requirement already satisfied: ipython>=5.0.0 in /Users/stephaniekendall/anaconda3/lib/python3.7/site-packages (from ipykernel->notebook>=4.0->jupyter_nbextensions_configurator) (7.6.1)\n",
      "Requirement already satisfied: jsonschema!=2.5.0,>=2.4 in /Users/stephaniekendall/anaconda3/lib/python3.7/site-packages (from nbformat->notebook>=4.0->jupyter_nbextensions_configurator) (3.0.1)\n",
      "Requirement already satisfied: webencodings in /Users/stephaniekendall/anaconda3/lib/python3.7/site-packages (from bleach->nbconvert->notebook>=4.0->jupyter_nbextensions_configurator) (0.5.1)\n",
      "Requirement already satisfied: pexpect; sys_platform != \"win32\" in /Users/stephaniekendall/anaconda3/lib/python3.7/site-packages (from ipython>=5.0.0->ipykernel->notebook>=4.0->jupyter_nbextensions_configurator) (4.7.0)\n",
      "Requirement already satisfied: backcall in /Users/stephaniekendall/anaconda3/lib/python3.7/site-packages (from ipython>=5.0.0->ipykernel->notebook>=4.0->jupyter_nbextensions_configurator) (0.1.0)\n",
      "Requirement already satisfied: prompt-toolkit<2.1.0,>=2.0.0 in /Users/stephaniekendall/anaconda3/lib/python3.7/site-packages (from ipython>=5.0.0->ipykernel->notebook>=4.0->jupyter_nbextensions_configurator) (2.0.9)\n",
      "Requirement already satisfied: appnope; sys_platform == \"darwin\" in /Users/stephaniekendall/anaconda3/lib/python3.7/site-packages (from ipython>=5.0.0->ipykernel->notebook>=4.0->jupyter_nbextensions_configurator) (0.1.0)\n",
      "Requirement already satisfied: jedi>=0.10 in /Users/stephaniekendall/anaconda3/lib/python3.7/site-packages (from ipython>=5.0.0->ipykernel->notebook>=4.0->jupyter_nbextensions_configurator) (0.13.3)\n",
      "Requirement already satisfied: pickleshare in /Users/stephaniekendall/anaconda3/lib/python3.7/site-packages (from ipython>=5.0.0->ipykernel->notebook>=4.0->jupyter_nbextensions_configurator) (0.7.5)\n",
      "Requirement already satisfied: attrs>=17.4.0 in /Users/stephaniekendall/anaconda3/lib/python3.7/site-packages (from jsonschema!=2.5.0,>=2.4->nbformat->notebook>=4.0->jupyter_nbextensions_configurator) (19.1.0)\n",
      "Requirement already satisfied: pyrsistent>=0.14.0 in /Users/stephaniekendall/anaconda3/lib/python3.7/site-packages (from jsonschema!=2.5.0,>=2.4->nbformat->notebook>=4.0->jupyter_nbextensions_configurator) (0.14.11)\n",
      "Requirement already satisfied: ptyprocess>=0.5 in /Users/stephaniekendall/anaconda3/lib/python3.7/site-packages (from pexpect; sys_platform != \"win32\"->ipython>=5.0.0->ipykernel->notebook>=4.0->jupyter_nbextensions_configurator) (0.6.0)\n",
      "Requirement already satisfied: wcwidth in /Users/stephaniekendall/anaconda3/lib/python3.7/site-packages (from prompt-toolkit<2.1.0,>=2.0.0->ipython>=5.0.0->ipykernel->notebook>=4.0->jupyter_nbextensions_configurator) (0.1.7)\n",
      "Requirement already satisfied: parso>=0.3.0 in /Users/stephaniekendall/anaconda3/lib/python3.7/site-packages (from jedi>=0.10->ipython>=5.0.0->ipykernel->notebook>=4.0->jupyter_nbextensions_configurator) (0.5.0)\n",
      "Note: you may need to restart the kernel to use updated packages.\n"
     ]
    }
   ],
   "source": [
    "pip install jupyter_nbextensions_configurator"
   ]
  },
  {
   "cell_type": "code",
   "execution_count": 4,
   "metadata": {},
   "outputs": [
    {
     "ename": "SyntaxError",
     "evalue": "invalid syntax (<ipython-input-4-421ebaa84054>, line 1)",
     "output_type": "error",
     "traceback": [
      "\u001b[0;36m  File \u001b[0;32m\"<ipython-input-4-421ebaa84054>\"\u001b[0;36m, line \u001b[0;32m1\u001b[0m\n\u001b[0;31m    jupyter nbextensions_configurator enable --user\u001b[0m\n\u001b[0m                                    ^\u001b[0m\n\u001b[0;31mSyntaxError\u001b[0m\u001b[0;31m:\u001b[0m invalid syntax\n"
     ]
    }
   ],
   "source": [
    "jupyter nbextensions_configurator enable --user"
   ]
  },
  {
   "cell_type": "code",
   "execution_count": null,
   "metadata": {},
   "outputs": [],
   "source": []
  }
 ],
 "metadata": {
  "kernelspec": {
   "display_name": "Python 3",
   "language": "python",
   "name": "python3"
  },
  "language_info": {
   "codemirror_mode": {
    "name": "ipython",
    "version": 3
   },
   "file_extension": ".py",
   "mimetype": "text/x-python",
   "name": "python",
   "nbconvert_exporter": "python",
   "pygments_lexer": "ipython3",
   "version": "3.7.3"
  }
 },
 "nbformat": 4,
 "nbformat_minor": 2
}
