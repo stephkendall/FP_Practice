{
 "cells": [
  {
   "cell_type": "markdown",
   "metadata": {},
   "source": [
    "### Imports"
   ]
  },
  {
   "cell_type": "code",
   "execution_count": 218,
   "metadata": {},
   "outputs": [],
   "source": [
    "import pandas as pd\n",
    "import re\n",
    "import requests\n",
    "import matplotlib.pyplot as plt\n",
    "import seaborn as sns\n",
    "import time\n",
    "\n",
    "\n",
    "from bs4 import BeautifulSoup\n",
    "from itertools import chain\n",
    "from pandas.io.json import json_normalize\n",
    "from pprint import pprint\n",
    "from recipe_scrapers import scrape_me\n",
    "from pymongo import MongoClient\n",
    "from selenium import webdriver\n",
    "from selenium.common.exceptions import TimeoutException, ElementNotInteractableException\n",
    "from selenium.common.exceptions import ElementNotVisibleException, StaleElementReferenceException\n",
    "from selenium.common.exceptions import NoSuchElementException, ElementClickInterceptedException\n",
    "from selenium.webdriver.common.by import By\n",
    "from selenium.webdriver.common.keys import Keys\n",
    "from selenium.webdriver.support.ui import WebDriverWait as wait\n",
    "from selenium.webdriver.support import expected_conditions as EC\n",
    "from tqdm import tqdm_notebook as tqdm\n",
    "\n",
    "pd.set_option('display.max_columns', 500)\n",
    "pd.set_option('display.max_colwidth', -1)"
   ]
  },
  {
   "cell_type": "markdown",
   "metadata": {},
   "source": [
    "### Parser"
   ]
  },
  {
   "cell_type": "code",
   "execution_count": 237,
   "metadata": {
    "scrolled": true
   },
   "outputs": [
    {
     "ename": "TypeError",
     "evalue": "'list' object is not callable",
     "output_type": "error",
     "traceback": [
      "\u001b[0;31m---------------------------------------------------------------------------\u001b[0m",
      "\u001b[0;31mTypeError\u001b[0m                                 Traceback (most recent call last)",
      "\u001b[0;32m<ipython-input-237-a82574a7a648>\u001b[0m in \u001b[0;36m<module>\u001b[0;34m\u001b[0m\n\u001b[1;32m     44\u001b[0m \u001b[0mprepositions\u001b[0m \u001b[0;34m=\u001b[0m \u001b[0;34m[\u001b[0m\u001b[0;34m\"of\"\u001b[0m\u001b[0;34m]\u001b[0m\u001b[0;34m\u001b[0m\u001b[0;34m\u001b[0m\u001b[0m\n\u001b[1;32m     45\u001b[0m \u001b[0;34m\u001b[0m\u001b[0m\n\u001b[0;32m---> 46\u001b[0;31m \u001b[0ma\u001b[0m \u001b[0;34m=\u001b[0m \u001b[0mlist\u001b[0m\u001b[0;34m(\u001b[0m\u001b[0mchain\u001b[0m\u001b[0;34m.\u001b[0m\u001b[0mfrom_iterable\u001b[0m\u001b[0;34m(\u001b[0m\u001b[0mUNITS\u001b[0m\u001b[0;34m.\u001b[0m\u001b[0mvalues\u001b[0m\u001b[0;34m(\u001b[0m\u001b[0;34m)\u001b[0m\u001b[0;34m)\u001b[0m\u001b[0;34m)\u001b[0m\u001b[0;34m\u001b[0m\u001b[0;34m\u001b[0m\u001b[0m\n\u001b[0m\u001b[1;32m     47\u001b[0m \u001b[0ma\u001b[0m\u001b[0;34m.\u001b[0m\u001b[0msort\u001b[0m\u001b[0;34m(\u001b[0m\u001b[0mkey\u001b[0m\u001b[0;34m=\u001b[0m\u001b[0;32mlambda\u001b[0m \u001b[0mx\u001b[0m\u001b[0;34m:\u001b[0m \u001b[0mlen\u001b[0m\u001b[0;34m(\u001b[0m\u001b[0mx\u001b[0m\u001b[0;34m)\u001b[0m\u001b[0;34m,\u001b[0m \u001b[0mreverse\u001b[0m\u001b[0;34m=\u001b[0m\u001b[0;32mTrue\u001b[0m\u001b[0;34m)\u001b[0m\u001b[0;34m\u001b[0m\u001b[0;34m\u001b[0m\u001b[0m\n\u001b[1;32m     48\u001b[0m \u001b[0ma\u001b[0m \u001b[0;34m=\u001b[0m \u001b[0mmap\u001b[0m\u001b[0;34m(\u001b[0m\u001b[0mescape_re_string\u001b[0m\u001b[0;34m,\u001b[0m \u001b[0ma\u001b[0m\u001b[0;34m)\u001b[0m\u001b[0;34m\u001b[0m\u001b[0;34m\u001b[0m\u001b[0m\n",
      "\u001b[0;31mTypeError\u001b[0m: 'list' object is not callable"
     ]
    }
   ],
   "source": [
    "import itertools\n",
    "\n",
    "# regex for separating ingredients list\n",
    "SEPARATOR_RE = re.compile(r'^([\\d\\s*[\\d\\.,/]*)\\s*(.+)')\n",
    "\n",
    "# create a normalized string for ingredients\n",
    "def normalize(st):\n",
    "    \"\"\"\n",
    "\n",
    "    :param st:\n",
    "    :return:\n",
    "    \"\"\"\n",
    "    return re.sub(r'\\s+', ' ', SEPARATOR_RE.sub('\\g<1> \\g<2>', st)).strip()\n",
    "\n",
    "\n",
    "def escape_re_string(text):\n",
    "    \"\"\"\n",
    "\n",
    "    :param text:\n",
    "    :return:\n",
    "    \"\"\"\n",
    "    text = text.replace('.', '\\.')\n",
    "    return re.sub(r'\\s+', ' ', text)\n",
    "\n",
    "# list of common units of measurements for ingredients\n",
    "UNITS = {\"cup\": [\"cups\", \"cup\", \"c.\", \"c\"], \"fluid_ounce\": [\"fl. oz.\", \"fl oz\", \"fluid ounce\", \"fluid ounces\"],\n",
    "         \"gallon\": [\"gal\", \"gal.\", \"gallon\", \"gallons\"], \"ounce\": [\"oz\", \"oz.\", \"ounce\", \"ounces\"],\n",
    "         \"pint\": [\"pt\", \"pt.\", \"pint\", \"pints\"], \"pound\": [\"lb\", \"lb.\", \"pound\", \"pounds\"],\n",
    "         \"quart\": [\"qt\", \"qt.\", \"qts\", \"qts.\", \"quart\", \"quarts\"],\n",
    "         \"tablespoon\": [\"tbsp.\", \"tbsp\", \"T\", \"T.\", \"tablespoon\", \"tablespoons\", \"tbs.\", \"tbs\"],\n",
    "         \"teaspoon\": [\"tsp.\", \"tsp\", \"t\", \"t.\", \"teaspoon\", \"teaspoons\"],\n",
    "         \"gram\": [\"g\", \"g.\", \"gr\", \"gr.\", \"gram\", \"grams\"], \"kilogram\": [\"kg\", \"kg.\", \"kilogram\", \"kilograms\"],\n",
    "         \"liter\": [\"l\", \"l.\", \"liter\", \"liters\"], \"milligram\": [\"mg\", \"mg.\", \"milligram\", \"milligrams\"],\n",
    "         \"milliliter\": [\"ml\", \"ml.\", \"milliliter\", \"milliliters\"], \"pinch\": [\"pinch\", \"pinches\"],\n",
    "         \"dash\": [\"dash\", \"dashes\"], \"touch\": [\"touch\", \"touches\"], \"handful\": [\"handful\", \"handfuls\"],\n",
    "         \"stick\": [\"stick\", \"sticks\"], \"clove\": [\"cloves\", \"clove\"], \"can\": [\"cans\", \"can\"], \"large\": [\"large\"],\n",
    "         \"small\": [\"small\"], \"scoop\": [\"scoop\", \"scoops\"], \"filets\": [\"filet\", \"filets\"], \"sprig\": [\"sprigs\", \"sprig\"] }\n",
    "\n",
    "# numbers to separate quantities from ingredients\n",
    "NUMBERS = ['seventeen', 'eighteen', 'thirteen', 'nineteen', 'fourteen', 'sixteen', 'fifteen', 'seventy', 'twelve',\n",
    "           'eleven', 'eighty', 'thirty', 'ninety', 'twenty', 'seven', 'fifty', 'sixty', 'forty', 'three', 'eight',\n",
    "           'four', 'zero', 'five', 'nine', 'ten', 'one', 'six', 'two', 'an', 'a', '½', '⅓','¼', '⅛', '¾']\n",
    "\n",
    "prepositions = [\"of\"]\n",
    "\n",
    "a = list(chain.from_iterable(UNITS.values()))\n",
    "a.sort(key=lambda x: len(x), reverse=True)\n",
    "a = map(escape_re_string, a)\n",
    "\n",
    "PARSER_RE = re.compile(\n",
    "    r'(?P<quantity>(?:[\\d\\.,][\\d\\.,\\s/]*)?\\s*(?:(?:%s)\\s*)*)?(\\s*(?P<unit>%s)\\s+)?(\\s*(?:%s)\\s+)?(\\s*(?P<name>.+))?' % (\n",
    "        '|'.join(NUMBERS), '|'.join(a), '|'.join(prepositions)))\n",
    "\n",
    "\n",
    "def parse(st):\n",
    "    \"\"\"\n",
    "\n",
    "    :param st:\n",
    "    :return:\n",
    "    \"\"\"\n",
    "    st = normalize(st)\n",
    "    res = PARSER_RE.match(st)\n",
    "    \n",
    "    return ((res.group('name') or '').strip())\n"
   ]
  },
  {
   "cell_type": "code",
   "execution_count": 105,
   "metadata": {},
   "outputs": [],
   "source": [
    "# remove more stop words\n",
    "\n",
    "removing = ['ground', 'fresh', 'freshly','sweet','lean', 'or to taste', \n",
    "            'and', 'all-purpose',  'low-sodium', 'long-grain',\n",
    "           , 'frozen',  'for frying', 'plain',  \n",
    "           'to cover', 'extra-virgin',  'soft', 'cup', 'dry',\n",
    "             'Italian- ', 'to taste', 'golden',\n",
    "           'or', 'of',  'Italian-style', 'cooking', \n",
    "          'light', 'finely', 'basting', 'slice', 'as',  'extra',\n",
    "          'plain', 'part-skim','quick', 'cooking',\n",
    "           'warm', , 'tart', 'long grain', 'hot', 'Mexican-style',\n",
    "           'standing', 'cripsy', 'low-sodium', 'links', 'leaves']"
   ]
  },
  {
   "cell_type": "markdown",
   "metadata": {},
   "source": [
    "### Load in DF of Links"
   ]
  },
  {
   "cell_type": "code",
   "execution_count": 2,
   "metadata": {},
   "outputs": [],
   "source": [
    "links = pd.read_csv('/Users/stephaniekendall/Desktop/Errthang/Flatiron/projects/FP_Practice/CSV Files/16k_links.csv')\n",
    "links.drop(columns=['Unnamed: 0'],inplace=True)"
   ]
  },
  {
   "cell_type": "markdown",
   "metadata": {},
   "source": [
    "### Get data associated to links"
   ]
  },
  {
   "cell_type": "code",
   "execution_count": 3,
   "metadata": {
    "collapsed": true
   },
   "outputs": [
    {
     "data": {
      "application/vnd.jupyter.widget-view+json": {
       "model_id": "d874c27123e1444d8cb27bf892115e11",
       "version_major": 2,
       "version_minor": 0
      },
      "text/plain": [
       "HBox(children=(IntProgress(value=0, max=1000), HTML(value='')))"
      ]
     },
     "metadata": {},
     "output_type": "display_data"
    },
    {
     "name": "stdout",
     "output_type": "stream",
     "text": [
      "\n"
     ]
    },
    {
     "data": {
      "application/vnd.jupyter.widget-view+json": {
       "model_id": "865debe7303a4233ba8cd4ec5160bf62",
       "version_major": 2,
       "version_minor": 0
      },
      "text/plain": [
       "HBox(children=(IntProgress(value=0, max=1000), HTML(value='')))"
      ]
     },
     "metadata": {},
     "output_type": "display_data"
    },
    {
     "name": "stdout",
     "output_type": "stream",
     "text": [
      "\n"
     ]
    },
    {
     "data": {
      "text/html": [
       "<div>\n",
       "<style scoped>\n",
       "    .dataframe tbody tr th:only-of-type {\n",
       "        vertical-align: middle;\n",
       "    }\n",
       "\n",
       "    .dataframe tbody tr th {\n",
       "        vertical-align: top;\n",
       "    }\n",
       "\n",
       "    .dataframe thead th {\n",
       "        text-align: right;\n",
       "    }\n",
       "</style>\n",
       "<table border=\"1\" class=\"dataframe\">\n",
       "  <thead>\n",
       "    <tr style=\"text-align: right;\">\n",
       "      <th></th>\n",
       "      <th>name</th>\n",
       "      <th>ingredients</th>\n",
       "    </tr>\n",
       "  </thead>\n",
       "  <tbody>\n",
       "    <tr>\n",
       "      <th>0</th>\n",
       "      <td>World's Best Lasagna</td>\n",
       "      <td>[1 pound sweet Italian sausage, 3/4 pound lean ground beef, 1/2 cup minced onion, 2 cloves garlic, crushed, 1 (28 ounce) can crushed tomatoes, 2 (6 ounce) cans tomato paste, 2 (6.5 ounce) cans canned tomato sauce, 1/2 cup water, 2 tablespoons white sugar, 1 1/2 teaspoons dried basil leaves, 1/2 teaspoon fennel seeds, 1 teaspoon Italian seasoning, 1 1/2 teaspoons salt, divided, or to taste, 1/4 teaspoon ground black pepper, 4 tablespoons chopped fresh parsley, 12 lasagna noodles, 16 ounces ricotta cheese, 1 egg, 3/4 pound mozzarella cheese, sliced, 3/4 cup grated Parmesan cheese]</td>\n",
       "    </tr>\n",
       "    <tr>\n",
       "      <th>1</th>\n",
       "      <td>Pork Chops in Garlic Mushroom Sauce</td>\n",
       "      <td>[2 pounds boneless pork chops, 1/2 teaspoon paprika, 1 pinch kosher salt and ground black pepper to taste, 1/4 cup butter, divided, 1 (8 ounce) package sliced fresh mushrooms, 4 cloves garlic, minced, 1 teaspoon Dijon mustard, 2 tablespoons all-purpose flour, 2 cups beef broth]</td>\n",
       "    </tr>\n",
       "    <tr>\n",
       "      <th>2</th>\n",
       "      <td>Super Duper Slow Cooker Beef Stroganoff</td>\n",
       "      <td>[1 1/2 pounds cubed beef stew meat, salt and ground black pepper to taste, 1 onion, chopped, 1 (10.75 ounce) can condensed cream of mushroom soup, 1/4 cup water, 1 tablespoon dried chives, 2 cloves garlic, minced, 1 tablespoon Worcestershire sauce, 1 cube beef bouillon, 1/2 cup red wine, 1 tablespoon cornstarch, 1 tablespoon all-purpose flour, 1 (8 ounce) container sour cream, 1 (8 ounce) package sliced fresh mushrooms, 4 ounces cream cheese, 1/2 cup chopped fresh parsley]</td>\n",
       "    </tr>\n",
       "    <tr>\n",
       "      <th>3</th>\n",
       "      <td>Chef John's Perfect Prime Rib</td>\n",
       "      <td>[4 pounds prime rib roast, 1/4 cup unsalted butter, softened, 1 tablespoon freshly ground black pepper, 1 teaspoon herbes de Provence, kosher salt]</td>\n",
       "    </tr>\n",
       "    <tr>\n",
       "      <th>4</th>\n",
       "      <td>Beef Stroganoff for Instant Pot®</td>\n",
       "      <td>[2 tablespoons canola oil, 1/2 onion, diced, 2 teaspoons salt, divided, 2 pounds beef stew meat, cut into 1-inch cubes, 1 teaspoon freshly ground black pepper, 3 cloves garlic, minced, 1/2 teaspoon dried thyme, 2 tablespoons soy sauce, 3 cups chopped mushrooms, 2 tablespoons all-purpose flour, 3 cups chicken broth, 1 (16 ounce) package wide egg noodles, 3/4 cup sour cream, or to taste]</td>\n",
       "    </tr>\n",
       "  </tbody>\n",
       "</table>\n",
       "</div>"
      ],
      "text/plain": [
       "                                      name  \\\n",
       "0  World's Best Lasagna                      \n",
       "1  Pork Chops in Garlic Mushroom Sauce       \n",
       "2  Super Duper Slow Cooker Beef Stroganoff   \n",
       "3  Chef John's Perfect Prime Rib             \n",
       "4  Beef Stroganoff for Instant Pot®          \n",
       "\n",
       "                                                                                                                                                                                                                                                                                                                                                                                                                                                                                                                                                                                                 ingredients  \n",
       "0  [1 pound sweet Italian sausage, 3/4 pound lean ground beef, 1/2 cup minced onion, 2 cloves garlic, crushed, 1 (28 ounce) can crushed tomatoes, 2 (6 ounce) cans tomato paste, 2 (6.5 ounce) cans canned tomato sauce, 1/2 cup water, 2 tablespoons white sugar, 1 1/2 teaspoons dried basil leaves, 1/2 teaspoon fennel seeds, 1 teaspoon Italian seasoning, 1 1/2 teaspoons salt, divided, or to taste, 1/4 teaspoon ground black pepper, 4 tablespoons chopped fresh parsley, 12 lasagna noodles, 16 ounces ricotta cheese, 1 egg, 3/4 pound mozzarella cheese, sliced, 3/4 cup grated Parmesan cheese]  \n",
       "1  [2 pounds boneless pork chops, 1/2 teaspoon paprika, 1 pinch kosher salt and ground black pepper to taste, 1/4 cup butter, divided, 1 (8 ounce) package sliced fresh mushrooms, 4 cloves garlic, minced, 1 teaspoon Dijon mustard, 2 tablespoons all-purpose flour, 2 cups beef broth]                                                                                                                                                                                                                                                                                                                     \n",
       "2  [1 1/2 pounds cubed beef stew meat, salt and ground black pepper to taste, 1 onion, chopped, 1 (10.75 ounce) can condensed cream of mushroom soup, 1/4 cup water, 1 tablespoon dried chives, 2 cloves garlic, minced, 1 tablespoon Worcestershire sauce, 1 cube beef bouillon, 1/2 cup red wine, 1 tablespoon cornstarch, 1 tablespoon all-purpose flour, 1 (8 ounce) container sour cream, 1 (8 ounce) package sliced fresh mushrooms, 4 ounces cream cheese, 1/2 cup chopped fresh parsley]                                                                                                              \n",
       "3  [4 pounds prime rib roast, 1/4 cup unsalted butter, softened, 1 tablespoon freshly ground black pepper, 1 teaspoon herbes de Provence, kosher salt]                                                                                                                                                                                                                                                                                                                                                                                                                                                        \n",
       "4  [2 tablespoons canola oil, 1/2 onion, diced, 2 teaspoons salt, divided, 2 pounds beef stew meat, cut into 1-inch cubes, 1 teaspoon freshly ground black pepper, 3 cloves garlic, minced, 1/2 teaspoon dried thyme, 2 tablespoons soy sauce, 3 cups chopped mushrooms, 2 tablespoons all-purpose flour, 3 cups chicken broth, 1 (16 ounce) package wide egg noodles, 3/4 cup sour cream, or to taste]                                                                                                                                                                                                       "
      ]
     },
     "execution_count": 3,
     "metadata": {},
     "output_type": "execute_result"
    }
   ],
   "source": [
    "# Use Recipe Scraper package on first 5580 links\n",
    "\n",
    "data = []\n",
    "for lins in tqdm(links.link[:1000]):\n",
    "    try:\n",
    "        data.append(scrape_me(lins))\n",
    "    except:\n",
    "        data.append(None)\n",
    "        pass\n",
    "\n",
    "# Create lists for name, ingredients, and total time of recipes\n",
    "names = []\n",
    "ings = []\n",
    "for dat in tqdm(data):\n",
    "    names.append(dat.title())\n",
    "    ings.append(dat.ingredients())\n",
    "\n",
    "\n",
    "# Create a dictionary to make a DataFrame from\n",
    "alls = {'name':names, 'ingredients':ings}\n",
    "df1 = pd.DataFrame(alls)\n",
    "\n",
    "# Preview DataFrame\n",
    "df1.head()"
   ]
  },
  {
   "cell_type": "code",
   "execution_count": 194,
   "metadata": {},
   "outputs": [
    {
     "data": {
      "application/vnd.jupyter.widget-view+json": {
       "model_id": "b718b9626f464988b91876c8626c3387",
       "version_major": 2,
       "version_minor": 0
      },
      "text/plain": [
       "HBox(children=(IntProgress(value=0, max=1000), HTML(value='')))"
      ]
     },
     "metadata": {},
     "output_type": "display_data"
    },
    {
     "name": "stdout",
     "output_type": "stream",
     "text": [
      "\n"
     ]
    }
   ],
   "source": [
    "# Use Recipe Scraper package on first 5580 links\n",
    "\n",
    "for lins in tqdm(links.link[2000:3000]):\n",
    "    try:\n",
    "        data.append(scrape_me(lins))\n",
    "    except:\n",
    "        data.append(None)\n",
    "        pass\n",
    "\n",
    "# # Create lists for name, ingredients, and total time of recipes\n",
    "# for dat in tqdm(data):\n",
    "#     names.append(dat.title())\n",
    "#     ings.append(dat.ingredients())\n",
    "\n",
    "#622 might be off"
   ]
  },
  {
   "cell_type": "code",
   "execution_count": 261,
   "metadata": {},
   "outputs": [
    {
     "data": {
      "application/vnd.jupyter.widget-view+json": {
       "model_id": "3403a85416dd4cd38080ea017f1a6210",
       "version_major": 2,
       "version_minor": 0
      },
      "text/plain": [
       "HBox(children=(IntProgress(value=0, max=1580), HTML(value='')))"
      ]
     },
     "metadata": {},
     "output_type": "display_data"
    }
   ],
   "source": [
    "# Use Recipe Scraper package on first 5580 links\n",
    "\n",
    "for lins in tqdm(links.link[4000:5580]):\n",
    "    try:\n",
    "        data.append(scrape_me(lins))\n",
    "    except:\n",
    "        data.append(None)\n",
    "        pass\n"
   ]
  },
  {
   "cell_type": "code",
   "execution_count": 262,
   "metadata": {
    "scrolled": true
   },
   "outputs": [
    {
     "data": {
      "application/vnd.jupyter.widget-view+json": {
       "model_id": "c4b74317a9c84f44981f79b920b117d0",
       "version_major": 2,
       "version_minor": 0
      },
      "text/plain": [
       "HBox(children=(IntProgress(value=0, max=1580), HTML(value='')))"
      ]
     },
     "metadata": {},
     "output_type": "display_data"
    }
   ],
   "source": [
    "more_names2 = []\n",
    "more_ings2 = []\n",
    "for dat in tqdm(data[4000:]):\n",
    "    try:\n",
    "        more_names2.append(dat.title())\n",
    "        more_ings2.append(dat.ingredients())\n",
    "    except:\n",
    "        more_names2.append(None)\n",
    "        more_ings2.append(None)\n",
    "    "
   ]
  },
  {
   "cell_type": "code",
   "execution_count": 200,
   "metadata": {},
   "outputs": [],
   "source": [
    "df1.drop(columns=['clean'],inplace=True)"
   ]
  },
  {
   "cell_type": "code",
   "execution_count": 263,
   "metadata": {},
   "outputs": [],
   "source": [
    "# Create a dictionary to make a DataFrame from\n",
    "alls3 = {'name':more_names2, 'ingredients':more_ings2}\n",
    "df4 = pd.DataFrame(alls3)\n",
    "\n",
    "# # Preview DataFrame\n",
    "df1.append(df2, ignore_index=True)"
   ]
  },
  {
   "cell_type": "code",
   "execution_count": 274,
   "metadata": {},
   "outputs": [
    {
     "data": {
      "text/plain": [
       "(4000, 2580, 1580, 3996)"
      ]
     },
     "execution_count": 274,
     "metadata": {},
     "output_type": "execute_result"
    }
   ],
   "source": [
    "len(df), len(df1), len(df4), len(df_na)"
   ]
  },
  {
   "cell_type": "code",
   "execution_count": 277,
   "metadata": {},
   "outputs": [],
   "source": [
    "df = df.append(df4, ignore_index=True)\n",
    "# Save the DataFrame\n",
    "df.to_csv(r'/Users/stephaniekendall/Desktop/Errthang/Flatiron/projects/FP_Practice/55_match.csv')"
   ]
  },
  {
   "cell_type": "code",
   "execution_count": 264,
   "metadata": {},
   "outputs": [
    {
     "data": {
      "text/plain": [
       "name           1\n",
       "ingredients    1\n",
       "dtype: int64"
      ]
     },
     "execution_count": 264,
     "metadata": {},
     "output_type": "execute_result"
    }
   ],
   "source": [
    "df4.isna().sum()"
   ]
  },
  {
   "cell_type": "code",
   "execution_count": 283,
   "metadata": {},
   "outputs": [
    {
     "data": {
      "text/plain": [
       "[1042]"
      ]
     },
     "execution_count": 283,
     "metadata": {},
     "output_type": "execute_result"
    }
   ],
   "source": [
    "# GET INDEX OF NULL VALUES\n",
    "df4[df4['name'].isnull()].index.tolist()"
   ]
  },
  {
   "cell_type": "code",
   "execution_count": 268,
   "metadata": {},
   "outputs": [
    {
     "data": {
      "text/plain": [
       "2580"
      ]
     },
     "execution_count": 268,
     "metadata": {},
     "output_type": "execute_result"
    }
   ],
   "source": [
    "len(df1)"
   ]
  },
  {
   "cell_type": "code",
   "execution_count": 281,
   "metadata": {},
   "outputs": [
    {
     "data": {
      "text/plain": [
       "5575"
      ]
     },
     "execution_count": 281,
     "metadata": {},
     "output_type": "execute_result"
    }
   ],
   "source": [
    "df_na = df_na.append(df4.dropna(), ignore_index=True)"
   ]
  },
  {
   "cell_type": "code",
   "execution_count": 282,
   "metadata": {
    "scrolled": false
   },
   "outputs": [
    {
     "data": {
      "text/html": [
       "<div>\n",
       "<style scoped>\n",
       "    .dataframe tbody tr th:only-of-type {\n",
       "        vertical-align: middle;\n",
       "    }\n",
       "\n",
       "    .dataframe tbody tr th {\n",
       "        vertical-align: top;\n",
       "    }\n",
       "\n",
       "    .dataframe thead th {\n",
       "        text-align: right;\n",
       "    }\n",
       "</style>\n",
       "<table border=\"1\" class=\"dataframe\">\n",
       "  <thead>\n",
       "    <tr style=\"text-align: right;\">\n",
       "      <th></th>\n",
       "      <th>name</th>\n",
       "      <th>ingredients</th>\n",
       "      <th>clean</th>\n",
       "    </tr>\n",
       "  </thead>\n",
       "  <tbody>\n",
       "    <tr>\n",
       "      <th>3995</th>\n",
       "      <td>Cindy's Beef Tips</td>\n",
       "      <td>[1 cup all-purpose flour, 1 teaspoon seasoned salt, 1 teaspoon ground black pepper, 1/2 teaspoon garlic powder, 1/2 teaspoon onion powder, 1 pound cubed beef stew meat, 1/4 cup canola oil, divided, 1 large onion, coarsely chopped, 3 cups beef broth, 1 (10.75 ounce) can fat free condensed cream of mushroom soup, 1 (10.75 ounce) can skim milk, 1 (8 ounce) can sliced mushrooms, drained, 2 tablespoons cornstarch (optional), 1 tablespoon water (optional)]</td>\n",
       "      <td>[all-purpose flour,  salt, ground black pepper, garlic powder, onion powder,  beef stew meat, canola oil, onion, beef broth, fat free  cream of mushroom soup, skim milk,  mushrooms, cornstarch, water]</td>\n",
       "    </tr>\n",
       "    <tr>\n",
       "      <th>3996</th>\n",
       "      <td>Slow Cooker Spaghetti Chicken</td>\n",
       "      <td>[1 (16 ounce) package spaghetti, cooked and drained, 1 (10.75 ounce) can condensed cream of chicken soup, 1 (10.75 ounce) can condensed cream of mushroom soup, 1 (14.5 ounce) can diced tomatoes with green chile peppers, 8 ounces processed cheese food, 4 skinless, boneless chicken breast halves - boiled and cut into bite-size pieces]</td>\n",
       "      <td>[package spaghetti,  cream of chicken soup,  cream of mushroom soup,  tomatoes with green chile peppers,  cheese food, chicken breast halves -  and cut into bite-size pieces]</td>\n",
       "    </tr>\n",
       "    <tr>\n",
       "      <th>3997</th>\n",
       "      <td>Spinach Cheese Pie</td>\n",
       "      <td>[2 (9 inch) pie crusts, 1 (10 ounce) package frozen chopped spinach, thawed and drained, 1/2 teaspoon salt, 1/2 teaspoon freshly ground black pepper, 1/4 teaspoon ground nutmeg, 15 ounces ricotta cheese, 8 ounces mozzarella cheese, 1 cup grated Parmesan cheese, 2 cups diced Cheddar cheese]</td>\n",
       "      <td>[pie crusts, package frozen  spinach, salt,  ground black pepper, ground nutmeg, ricotta cheese, mozzarella cheese,  Parmesan cheese,  Cheddar cheese]</td>\n",
       "    </tr>\n",
       "    <tr>\n",
       "      <th>3998</th>\n",
       "      <td>Beer Cooked Chicken</td>\n",
       "      <td>[1 (12 fluid ounce) can or bottle beer, 4 skinless, boneless chicken breast halves, 2 tablespoons butter, 1 cup sliced fresh mushrooms, 1 tablespoon grated Parmesan cheese]</td>\n",
       "      <td>[or bottle beer, chicken breast halves, butter,  fresh mushrooms,  Parmesan cheese]</td>\n",
       "    </tr>\n",
       "    <tr>\n",
       "      <th>3999</th>\n",
       "      <td>Jeff's Sloppy Joes</td>\n",
       "      <td>[2 tablespoons olive oil, 1 cup chopped onion, 2 cloves garlic, minced, 1/2 cup chopped green bell pepper, 1 stalk celery, chopped, 1/2 teaspoon dried oregano, 1 pound ground beef, 1/2 pound Italian sausage, 1 (12 fluid ounce) can or bottle chili sauce, 2 tablespoons red wine vinegar, 1 tablespoon Worcestershire sauce, 2 teaspoons brown sugar, salt and pepper to taste]</td>\n",
       "      <td>[olive oil,  onion, garlic,  green bell pepper, stalk celery,  oregano, ground beef, Italian sausage, or bottle chili sauce,  wine vinegar, Worcestershire sauce, brown sugar, salt and pepper to taste]</td>\n",
       "    </tr>\n",
       "  </tbody>\n",
       "</table>\n",
       "</div>"
      ],
      "text/plain": [
       "                               name  \\\n",
       "3995  Cindy's Beef Tips               \n",
       "3996  Slow Cooker Spaghetti Chicken   \n",
       "3997  Spinach Cheese Pie              \n",
       "3998  Beer Cooked Chicken             \n",
       "3999  Jeff's Sloppy Joes              \n",
       "\n",
       "                                                                                                                                                                                                                                                                                                                                                                                                                                                                 ingredients  \\\n",
       "3995  [1 cup all-purpose flour, 1 teaspoon seasoned salt, 1 teaspoon ground black pepper, 1/2 teaspoon garlic powder, 1/2 teaspoon onion powder, 1 pound cubed beef stew meat, 1/4 cup canola oil, divided, 1 large onion, coarsely chopped, 3 cups beef broth, 1 (10.75 ounce) can fat free condensed cream of mushroom soup, 1 (10.75 ounce) can skim milk, 1 (8 ounce) can sliced mushrooms, drained, 2 tablespoons cornstarch (optional), 1 tablespoon water (optional)]   \n",
       "3996  [1 (16 ounce) package spaghetti, cooked and drained, 1 (10.75 ounce) can condensed cream of chicken soup, 1 (10.75 ounce) can condensed cream of mushroom soup, 1 (14.5 ounce) can diced tomatoes with green chile peppers, 8 ounces processed cheese food, 4 skinless, boneless chicken breast halves - boiled and cut into bite-size pieces]                                                                                                                           \n",
       "3997  [2 (9 inch) pie crusts, 1 (10 ounce) package frozen chopped spinach, thawed and drained, 1/2 teaspoon salt, 1/2 teaspoon freshly ground black pepper, 1/4 teaspoon ground nutmeg, 15 ounces ricotta cheese, 8 ounces mozzarella cheese, 1 cup grated Parmesan cheese, 2 cups diced Cheddar cheese]                                                                                                                                                                       \n",
       "3998  [1 (12 fluid ounce) can or bottle beer, 4 skinless, boneless chicken breast halves, 2 tablespoons butter, 1 cup sliced fresh mushrooms, 1 tablespoon grated Parmesan cheese]                                                                                                                                                                                                                                                                                             \n",
       "3999  [2 tablespoons olive oil, 1 cup chopped onion, 2 cloves garlic, minced, 1/2 cup chopped green bell pepper, 1 stalk celery, chopped, 1/2 teaspoon dried oregano, 1 pound ground beef, 1/2 pound Italian sausage, 1 (12 fluid ounce) can or bottle chili sauce, 2 tablespoons red wine vinegar, 1 tablespoon Worcestershire sauce, 2 teaspoons brown sugar, salt and pepper to taste]                                                                                      \n",
       "\n",
       "                                                                                                                                                                                                         clean  \n",
       "3995  [all-purpose flour,  salt, ground black pepper, garlic powder, onion powder,  beef stew meat, canola oil, onion, beef broth, fat free  cream of mushroom soup, skim milk,  mushrooms, cornstarch, water]  \n",
       "3996  [package spaghetti,  cream of chicken soup,  cream of mushroom soup,  tomatoes with green chile peppers,  cheese food, chicken breast halves -  and cut into bite-size pieces]                            \n",
       "3997  [pie crusts, package frozen  spinach, salt,  ground black pepper, ground nutmeg, ricotta cheese, mozzarella cheese,  Parmesan cheese,  Cheddar cheese]                                                    \n",
       "3998  [or bottle beer, chicken breast halves, butter,  fresh mushrooms,  Parmesan cheese]                                                                                                                       \n",
       "3999  [olive oil,  onion, garlic,  green bell pepper, stalk celery,  oregano, ground beef, Italian sausage, or bottle chili sauce,  wine vinegar, Worcestershire sauce, brown sugar, salt and pepper to taste]  "
      ]
     },
     "execution_count": 282,
     "metadata": {},
     "output_type": "execute_result"
    }
   ],
   "source": [
    "df_na.tail()"
   ]
  },
  {
   "cell_type": "code",
   "execution_count": 235,
   "metadata": {
    "collapsed": true
   },
   "outputs": [
    {
     "data": {
      "text/html": [
       "<div>\n",
       "<style scoped>\n",
       "    .dataframe tbody tr th:only-of-type {\n",
       "        vertical-align: middle;\n",
       "    }\n",
       "\n",
       "    .dataframe tbody tr th {\n",
       "        vertical-align: top;\n",
       "    }\n",
       "\n",
       "    .dataframe thead th {\n",
       "        text-align: right;\n",
       "    }\n",
       "</style>\n",
       "<table border=\"1\" class=\"dataframe\">\n",
       "  <thead>\n",
       "    <tr style=\"text-align: right;\">\n",
       "      <th></th>\n",
       "      <th>name</th>\n",
       "      <th>ingredients</th>\n",
       "    </tr>\n",
       "  </thead>\n",
       "  <tbody>\n",
       "    <tr>\n",
       "      <th>0</th>\n",
       "      <td>World's Best Lasagna</td>\n",
       "      <td>[1 pound sweet Italian sausage, 3/4 pound lean ground beef, 1/2 cup minced onion, 2 cloves garlic, crushed, 1 (28 ounce) can crushed tomatoes, 2 (6 ounce) cans tomato paste, 2 (6.5 ounce) cans canned tomato sauce, 1/2 cup water, 2 tablespoons white sugar, 1 1/2 teaspoons dried basil leaves, 1/2 teaspoon fennel seeds, 1 teaspoon Italian seasoning, 1 1/2 teaspoons salt, divided, or to taste, 1/4 teaspoon ground black pepper, 4 tablespoons chopped fresh parsley, 12 lasagna noodles, 16 ounces ricotta cheese, 1 egg, 3/4 pound mozzarella cheese, sliced, 3/4 cup grated Parmesan cheese]</td>\n",
       "    </tr>\n",
       "    <tr>\n",
       "      <th>1</th>\n",
       "      <td>Pork Chops in Garlic Mushroom Sauce</td>\n",
       "      <td>[2 pounds boneless pork chops, 1/2 teaspoon paprika, 1 pinch kosher salt and ground black pepper to taste, 1/4 cup butter, divided, 1 (8 ounce) package sliced fresh mushrooms, 4 cloves garlic, minced, 1 teaspoon Dijon mustard, 2 tablespoons all-purpose flour, 2 cups beef broth]</td>\n",
       "    </tr>\n",
       "    <tr>\n",
       "      <th>2</th>\n",
       "      <td>Super Duper Slow Cooker Beef Stroganoff</td>\n",
       "      <td>[1 1/2 pounds cubed beef stew meat, salt and ground black pepper to taste, 1 onion, chopped, 1 (10.75 ounce) can condensed cream of mushroom soup, 1/4 cup water, 1 tablespoon dried chives, 2 cloves garlic, minced, 1 tablespoon Worcestershire sauce, 1 cube beef bouillon, 1/2 cup red wine, 1 tablespoon cornstarch, 1 tablespoon all-purpose flour, 1 (8 ounce) container sour cream, 1 (8 ounce) package sliced fresh mushrooms, 4 ounces cream cheese, 1/2 cup chopped fresh parsley]</td>\n",
       "    </tr>\n",
       "    <tr>\n",
       "      <th>3</th>\n",
       "      <td>Chef John's Perfect Prime Rib</td>\n",
       "      <td>[4 pounds prime rib roast, 1/4 cup unsalted butter, softened, 1 tablespoon freshly ground black pepper, 1 teaspoon herbes de Provence, kosher salt]</td>\n",
       "    </tr>\n",
       "    <tr>\n",
       "      <th>4</th>\n",
       "      <td>Beef Stroganoff for Instant Pot®</td>\n",
       "      <td>[2 tablespoons canola oil, 1/2 onion, diced, 2 teaspoons salt, divided, 2 pounds beef stew meat, cut into 1-inch cubes, 1 teaspoon freshly ground black pepper, 3 cloves garlic, minced, 1/2 teaspoon dried thyme, 2 tablespoons soy sauce, 3 cups chopped mushrooms, 2 tablespoons all-purpose flour, 3 cups chicken broth, 1 (16 ounce) package wide egg noodles, 3/4 cup sour cream, or to taste]</td>\n",
       "    </tr>\n",
       "  </tbody>\n",
       "</table>\n",
       "</div>"
      ],
      "text/plain": [
       "                                      name  \\\n",
       "0  World's Best Lasagna                      \n",
       "1  Pork Chops in Garlic Mushroom Sauce       \n",
       "2  Super Duper Slow Cooker Beef Stroganoff   \n",
       "3  Chef John's Perfect Prime Rib             \n",
       "4  Beef Stroganoff for Instant Pot®          \n",
       "\n",
       "                                                                                                                                                                                                                                                                                                                                                                                                                                                                                                                                                                                                 ingredients  \n",
       "0  [1 pound sweet Italian sausage, 3/4 pound lean ground beef, 1/2 cup minced onion, 2 cloves garlic, crushed, 1 (28 ounce) can crushed tomatoes, 2 (6 ounce) cans tomato paste, 2 (6.5 ounce) cans canned tomato sauce, 1/2 cup water, 2 tablespoons white sugar, 1 1/2 teaspoons dried basil leaves, 1/2 teaspoon fennel seeds, 1 teaspoon Italian seasoning, 1 1/2 teaspoons salt, divided, or to taste, 1/4 teaspoon ground black pepper, 4 tablespoons chopped fresh parsley, 12 lasagna noodles, 16 ounces ricotta cheese, 1 egg, 3/4 pound mozzarella cheese, sliced, 3/4 cup grated Parmesan cheese]  \n",
       "1  [2 pounds boneless pork chops, 1/2 teaspoon paprika, 1 pinch kosher salt and ground black pepper to taste, 1/4 cup butter, divided, 1 (8 ounce) package sliced fresh mushrooms, 4 cloves garlic, minced, 1 teaspoon Dijon mustard, 2 tablespoons all-purpose flour, 2 cups beef broth]                                                                                                                                                                                                                                                                                                                     \n",
       "2  [1 1/2 pounds cubed beef stew meat, salt and ground black pepper to taste, 1 onion, chopped, 1 (10.75 ounce) can condensed cream of mushroom soup, 1/4 cup water, 1 tablespoon dried chives, 2 cloves garlic, minced, 1 tablespoon Worcestershire sauce, 1 cube beef bouillon, 1/2 cup red wine, 1 tablespoon cornstarch, 1 tablespoon all-purpose flour, 1 (8 ounce) container sour cream, 1 (8 ounce) package sliced fresh mushrooms, 4 ounces cream cheese, 1/2 cup chopped fresh parsley]                                                                                                              \n",
       "3  [4 pounds prime rib roast, 1/4 cup unsalted butter, softened, 1 tablespoon freshly ground black pepper, 1 teaspoon herbes de Provence, kosher salt]                                                                                                                                                                                                                                                                                                                                                                                                                                                        \n",
       "4  [2 tablespoons canola oil, 1/2 onion, diced, 2 teaspoons salt, divided, 2 pounds beef stew meat, cut into 1-inch cubes, 1 teaspoon freshly ground black pepper, 3 cloves garlic, minced, 1/2 teaspoon dried thyme, 2 tablespoons soy sauce, 3 cups chopped mushrooms, 2 tablespoons all-purpose flour, 3 cups chicken broth, 1 (16 ounce) package wide egg noodles, 3/4 cup sour cream, or to taste]                                                                                                                                                                                                       "
      ]
     },
     "execution_count": 235,
     "metadata": {},
     "output_type": "execute_result"
    }
   ],
   "source": [
    "df_na.head()"
   ]
  },
  {
   "cell_type": "code",
   "execution_count": 286,
   "metadata": {},
   "outputs": [],
   "source": [
    "df5 = df4.dropna()"
   ]
  },
  {
   "cell_type": "markdown",
   "metadata": {},
   "source": [
    "### Cleaning Ingredients"
   ]
  },
  {
   "cell_type": "code",
   "execution_count": 278,
   "metadata": {},
   "outputs": [],
   "source": [
    "# iterate through rows to remove punctuations\n",
    "cleaning = []\n",
    "for rows in df4.ingredients.dropna():\n",
    "    helper = []\n",
    "    for ings in rows:   \n",
    "        b = re.sub(r'\\([^)]*\\)', '', ings)\n",
    "        helper.append(parse(b))\n",
    "    cleaning.append(helper)\n",
    "    \n",
    "# remove words ending in ed\n",
    "cleaner = []\n",
    "for values in cleaning:\n",
    "    helper = []\n",
    "    for ings in values:   \n",
    "        b = re.sub(r'\\w*ed\\b', '', ings)\n",
    "        helper.append(b)\n",
    "    cleaner.append(helper)\n",
    "    \n",
    "# remove words ending in less,\n",
    "cleaner1 = []\n",
    "for values in cleaner:\n",
    "    helper = []\n",
    "    for ings in values:   \n",
    "        b = re.sub(r'\\w*less, \\b', '', ings)\n",
    "        helper.append(b)\n",
    "    cleaner1.append(helper)\n",
    "\n",
    "# remove words ending in less\n",
    "cleaner2 = []\n",
    "for values in cleaner1:\n",
    "    helper = []\n",
    "    for ings in values:   \n",
    "        b = re.sub(r'\\w*less \\b', '', ings)\n",
    "        helper.append(b)\n",
    "    cleaner2.append(helper)\n",
    "\n",
    "# remove words ending in ly\n",
    "cleaner3 = []\n",
    "for values in cleaner2:\n",
    "    helper = []\n",
    "    for ings in values:   \n",
    "        b = re.sub(r'\\w*ly\\b', '', ings)\n",
    "        helper.append(b)\n",
    "    cleaner3.append(helper)\n",
    "    \n",
    "# remove phrases after commas\n",
    "cleaner4 = []\n",
    "for clean in cleaner3:\n",
    "    helper = []\n",
    "    for values in clean:\n",
    "        # separate values by comma and extract first item only\n",
    "        # eliminates descriptors such as minced, divided, etc\n",
    "        sep = ','\n",
    "        rest = values.split(sep,1)[0]\n",
    "        helper.append(rest)\n",
    "    cleaner4.append(helper)"
   ]
  },
  {
   "cell_type": "code",
   "execution_count": 284,
   "metadata": {},
   "outputs": [
    {
     "data": {
      "text/plain": [
       "1579"
      ]
     },
     "execution_count": 284,
     "metadata": {},
     "output_type": "execute_result"
    }
   ],
   "source": [
    "len(cleaner4)"
   ]
  },
  {
   "cell_type": "code",
   "execution_count": null,
   "metadata": {},
   "outputs": [],
   "source": [
    "df5['clean'] = cleaner4"
   ]
  },
  {
   "cell_type": "code",
   "execution_count": 242,
   "metadata": {
    "scrolled": true
   },
   "outputs": [
    {
     "data": {
      "text/html": [
       "<div>\n",
       "<style scoped>\n",
       "    .dataframe tbody tr th:only-of-type {\n",
       "        vertical-align: middle;\n",
       "    }\n",
       "\n",
       "    .dataframe tbody tr th {\n",
       "        vertical-align: top;\n",
       "    }\n",
       "\n",
       "    .dataframe thead th {\n",
       "        text-align: right;\n",
       "    }\n",
       "</style>\n",
       "<table border=\"1\" class=\"dataframe\">\n",
       "  <thead>\n",
       "    <tr style=\"text-align: right;\">\n",
       "      <th></th>\n",
       "      <th>name</th>\n",
       "      <th>ingredients</th>\n",
       "      <th>clean</th>\n",
       "    </tr>\n",
       "  </thead>\n",
       "  <tbody>\n",
       "    <tr>\n",
       "      <th>0</th>\n",
       "      <td>World's Best Lasagna</td>\n",
       "      <td>[1 pound sweet Italian sausage, 3/4 pound lean ground beef, 1/2 cup minced onion, 2 cloves garlic, crushed, 1 (28 ounce) can crushed tomatoes, 2 (6 ounce) cans tomato paste, 2 (6.5 ounce) cans canned tomato sauce, 1/2 cup water, 2 tablespoons white sugar, 1 1/2 teaspoons dried basil leaves, 1/2 teaspoon fennel seeds, 1 teaspoon Italian seasoning, 1 1/2 teaspoons salt, divided, or to taste, 1/4 teaspoon ground black pepper, 4 tablespoons chopped fresh parsley, 12 lasagna noodles, 16 ounces ricotta cheese, 1 egg, 3/4 pound mozzarella cheese, sliced, 3/4 cup grated Parmesan cheese]</td>\n",
       "      <td>[sweet Italian sausage, lean ground beef,  onion, garlic,  tomatoes, tomato paste,  tomato sauce, water, white sugar,  basil leaves, fennel seeds, Italian seasoning, salt, ground black pepper,  fresh parsley, lasagna noodles, ricotta cheese, egg, mozzarella cheese,  Parmesan cheese]</td>\n",
       "    </tr>\n",
       "    <tr>\n",
       "      <th>1</th>\n",
       "      <td>Pork Chops in Garlic Mushroom Sauce</td>\n",
       "      <td>[2 pounds boneless pork chops, 1/2 teaspoon paprika, 1 pinch kosher salt and ground black pepper to taste, 1/4 cup butter, divided, 1 (8 ounce) package sliced fresh mushrooms, 4 cloves garlic, minced, 1 teaspoon Dijon mustard, 2 tablespoons all-purpose flour, 2 cups beef broth]</td>\n",
       "      <td>[pork chops, paprika, kosher salt and ground black pepper to taste, butter, package  fresh mushrooms, garlic, Dijon mustard, all-purpose flour, beef broth]</td>\n",
       "    </tr>\n",
       "    <tr>\n",
       "      <th>2</th>\n",
       "      <td>Super Duper Slow Cooker Beef Stroganoff</td>\n",
       "      <td>[1 1/2 pounds cubed beef stew meat, salt and ground black pepper to taste, 1 onion, chopped, 1 (10.75 ounce) can condensed cream of mushroom soup, 1/4 cup water, 1 tablespoon dried chives, 2 cloves garlic, minced, 1 tablespoon Worcestershire sauce, 1 cube beef bouillon, 1/2 cup red wine, 1 tablespoon cornstarch, 1 tablespoon all-purpose flour, 1 (8 ounce) container sour cream, 1 (8 ounce) package sliced fresh mushrooms, 4 ounces cream cheese, 1/2 cup chopped fresh parsley]</td>\n",
       "      <td>[ beef stew meat, salt and ground black pepper to taste, onion,  cream of mushroom soup, water,  chives, garlic, Worcestershire sauce, cube beef bouillon,  wine, cornstarch, all-purpose flour, container sour cream, package  fresh mushrooms, cream cheese,  fresh parsley]</td>\n",
       "    </tr>\n",
       "    <tr>\n",
       "      <th>3</th>\n",
       "      <td>Chef John's Perfect Prime Rib</td>\n",
       "      <td>[4 pounds prime rib roast, 1/4 cup unsalted butter, softened, 1 tablespoon freshly ground black pepper, 1 teaspoon herbes de Provence, kosher salt]</td>\n",
       "      <td>[prime rib roast,  butter,  ground black pepper, herbes de Provence, kosher salt]</td>\n",
       "    </tr>\n",
       "    <tr>\n",
       "      <th>4</th>\n",
       "      <td>Beef Stroganoff for Instant Pot®</td>\n",
       "      <td>[2 tablespoons canola oil, 1/2 onion, diced, 2 teaspoons salt, divided, 2 pounds beef stew meat, cut into 1-inch cubes, 1 teaspoon freshly ground black pepper, 3 cloves garlic, minced, 1/2 teaspoon dried thyme, 2 tablespoons soy sauce, 3 cups chopped mushrooms, 2 tablespoons all-purpose flour, 3 cups chicken broth, 1 (16 ounce) package wide egg noodles, 3/4 cup sour cream, or to taste]</td>\n",
       "      <td>[canola oil, onion, salt, beef stew meat,  ground black pepper, garlic,  thyme, soy sauce,  mushrooms, all-purpose flour, chicken broth, package wide egg noodles, sour cream]</td>\n",
       "    </tr>\n",
       "  </tbody>\n",
       "</table>\n",
       "</div>"
      ],
      "text/plain": [
       "                                      name  \\\n",
       "0  World's Best Lasagna                      \n",
       "1  Pork Chops in Garlic Mushroom Sauce       \n",
       "2  Super Duper Slow Cooker Beef Stroganoff   \n",
       "3  Chef John's Perfect Prime Rib             \n",
       "4  Beef Stroganoff for Instant Pot®          \n",
       "\n",
       "                                                                                                                                                                                                                                                                                                                                                                                                                                                                                                                                                                                                 ingredients  \\\n",
       "0  [1 pound sweet Italian sausage, 3/4 pound lean ground beef, 1/2 cup minced onion, 2 cloves garlic, crushed, 1 (28 ounce) can crushed tomatoes, 2 (6 ounce) cans tomato paste, 2 (6.5 ounce) cans canned tomato sauce, 1/2 cup water, 2 tablespoons white sugar, 1 1/2 teaspoons dried basil leaves, 1/2 teaspoon fennel seeds, 1 teaspoon Italian seasoning, 1 1/2 teaspoons salt, divided, or to taste, 1/4 teaspoon ground black pepper, 4 tablespoons chopped fresh parsley, 12 lasagna noodles, 16 ounces ricotta cheese, 1 egg, 3/4 pound mozzarella cheese, sliced, 3/4 cup grated Parmesan cheese]   \n",
       "1  [2 pounds boneless pork chops, 1/2 teaspoon paprika, 1 pinch kosher salt and ground black pepper to taste, 1/4 cup butter, divided, 1 (8 ounce) package sliced fresh mushrooms, 4 cloves garlic, minced, 1 teaspoon Dijon mustard, 2 tablespoons all-purpose flour, 2 cups beef broth]                                                                                                                                                                                                                                                                                                                      \n",
       "2  [1 1/2 pounds cubed beef stew meat, salt and ground black pepper to taste, 1 onion, chopped, 1 (10.75 ounce) can condensed cream of mushroom soup, 1/4 cup water, 1 tablespoon dried chives, 2 cloves garlic, minced, 1 tablespoon Worcestershire sauce, 1 cube beef bouillon, 1/2 cup red wine, 1 tablespoon cornstarch, 1 tablespoon all-purpose flour, 1 (8 ounce) container sour cream, 1 (8 ounce) package sliced fresh mushrooms, 4 ounces cream cheese, 1/2 cup chopped fresh parsley]                                                                                                               \n",
       "3  [4 pounds prime rib roast, 1/4 cup unsalted butter, softened, 1 tablespoon freshly ground black pepper, 1 teaspoon herbes de Provence, kosher salt]                                                                                                                                                                                                                                                                                                                                                                                                                                                         \n",
       "4  [2 tablespoons canola oil, 1/2 onion, diced, 2 teaspoons salt, divided, 2 pounds beef stew meat, cut into 1-inch cubes, 1 teaspoon freshly ground black pepper, 3 cloves garlic, minced, 1/2 teaspoon dried thyme, 2 tablespoons soy sauce, 3 cups chopped mushrooms, 2 tablespoons all-purpose flour, 3 cups chicken broth, 1 (16 ounce) package wide egg noodles, 3/4 cup sour cream, or to taste]                                                                                                                                                                                                        \n",
       "\n",
       "                                                                                                                                                                                                                                                                                         clean  \n",
       "0  [sweet Italian sausage, lean ground beef,  onion, garlic,  tomatoes, tomato paste,  tomato sauce, water, white sugar,  basil leaves, fennel seeds, Italian seasoning, salt, ground black pepper,  fresh parsley, lasagna noodles, ricotta cheese, egg, mozzarella cheese,  Parmesan cheese]  \n",
       "1  [pork chops, paprika, kosher salt and ground black pepper to taste, butter, package  fresh mushrooms, garlic, Dijon mustard, all-purpose flour, beef broth]                                                                                                                                  \n",
       "2  [ beef stew meat, salt and ground black pepper to taste, onion,  cream of mushroom soup, water,  chives, garlic, Worcestershire sauce, cube beef bouillon,  wine, cornstarch, all-purpose flour, container sour cream, package  fresh mushrooms, cream cheese,  fresh parsley]               \n",
       "3  [prime rib roast,  butter,  ground black pepper, herbes de Provence, kosher salt]                                                                                                                                                                                                            \n",
       "4  [canola oil, onion, salt, beef stew meat,  ground black pepper, garlic,  thyme, soy sauce,  mushrooms, all-purpose flour, chicken broth, package wide egg noodles, sour cream]                                                                                                               "
      ]
     },
     "execution_count": 242,
     "metadata": {},
     "output_type": "execute_result"
    }
   ],
   "source": [
    "df_na.head()"
   ]
  },
  {
   "cell_type": "code",
   "execution_count": 260,
   "metadata": {},
   "outputs": [],
   "source": [
    "# Save the DataFrame\n",
    "df_na.to_csv(r'/Users/stephaniekendall/Desktop/Errthang/Flatiron/projects/FP_Practice/4k_clean.csv')"
   ]
  },
  {
   "cell_type": "code",
   "execution_count": 244,
   "metadata": {},
   "outputs": [],
   "source": [
    "# copy of list \n",
    "try_me = cleaner4\n",
    "\n",
    "# flatten list for count of values\n",
    "flat_list = [item for sublist in try_me for item in sublist]"
   ]
  },
  {
   "cell_type": "code",
   "execution_count": 252,
   "metadata": {},
   "outputs": [
    {
     "data": {
      "text/plain": [
       "['sweet Italian sausage',\n",
       " 'lean ground beef',\n",
       " ' onion',\n",
       " 'garlic',\n",
       " ' tomatoes',\n",
       " 'tomato paste',\n",
       " ' tomato sauce',\n",
       " 'water',\n",
       " 'white sugar',\n",
       " ' basil leaves']"
      ]
     },
     "execution_count": 252,
     "metadata": {},
     "output_type": "execute_result"
    }
   ],
   "source": [
    "flat_list[:10]"
   ]
  },
  {
   "cell_type": "code",
   "execution_count": 255,
   "metadata": {},
   "outputs": [],
   "source": [
    "# remove whitespace before or after ingredient\n",
    "no_space = []\n",
    "for string in flat_list:\n",
    "    no_space.append(string.strip())"
   ]
  },
  {
   "cell_type": "code",
   "execution_count": 258,
   "metadata": {
    "scrolled": false
   },
   "outputs": [
    {
     "data": {
      "image/png": "[encoded data removed]",
      "text/plain": [
       "<Figure size 432x288 with 1 Axes>"
      ]
     },
     "metadata": {
      "needs_background": "light"
     },
     "output_type": "display_data"
    },
    {
     "data": {
      "text/plain": [
       "<Figure size 720x1080 with 0 Axes>"
      ]
     },
     "metadata": {},
     "output_type": "display_data"
    }
   ],
   "source": [
    "# create bar chart for most common words\n",
    "\n",
    "from collections import Counter\n",
    "import numpy as np\n",
    "import matplotlib.pyplot as plt\n",
    "\n",
    "w = Counter(no_space)\n",
    "most_occur = w.most_common(25)\n",
    "\n",
    "word, frequency = zip(*most_occur)\n",
    "indices = np.arange(len(labels))\n",
    "plt.bar(indices, frequency, color='r')\n",
    "plt.xticks(indices, word, rotation='vertical')\n",
    "plt.xlabel('25 most common ingredients')\n",
    "plt.ylabel('frequency')\n",
    "# plt.tight_layout()\n",
    "\n",
    "plt.figure(figsize=(10,15))\n",
    "plt.show()"
   ]
  },
  {
   "cell_type": "markdown",
   "metadata": {},
   "source": [
    "### Notes"
   ]
  },
  {
   "cell_type": "code",
   "execution_count": null,
   "metadata": {},
   "outputs": [],
   "source": [
    "# luminum \n",
    "# pple\n",
    "# pples\n",
    "# add a to above \n",
    "\n",
    "# remove below\n",
    "# words ending in :\n",
    "# package\n",
    "# fresh\n",
    "# ground\n",
    "# to taste\n",
    "# slices\n",
    "# frozen\n",
    "# words ending in less"
   ]
  }
 ],
 "metadata": {
  "kernelspec": {
   "display_name": "Python 3",
   "language": "python",
   "name": "python3"
  },
  "language_info": {
   "codemirror_mode": {
    "name": "ipython",
    "version": 3
   },
   "file_extension": ".py",
   "mimetype": "text/x-python",
   "name": "python",
   "nbconvert_exporter": "python",
   "pygments_lexer": "ipython3",
   "version": "3.7.3"
  }
 },
 "nbformat": 4,
 "nbformat_minor": 2
}
